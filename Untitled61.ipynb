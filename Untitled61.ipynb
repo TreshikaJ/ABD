{
  "nbformat": 4,
  "nbformat_minor": 0,
  "metadata": {
    "colab": {
      "provenance": [],
      "authorship_tag": "ABX9TyOW2H8GVjc1T1UFKPdjNoAR",
      "include_colab_link": true
    },
    "kernelspec": {
      "name": "python3",
      "display_name": "Python 3"
    },
    "language_info": {
      "name": "python"
    }
  },
  "cells": [
    {
      "cell_type": "markdown",
      "metadata": {
        "id": "view-in-github",
        "colab_type": "text"
      },
      "source": [
        "<a href=\"https://colab.research.google.com/github/TreshikaJ/ABD/blob/main/Untitled61.ipynb\" target=\"_parent\"><img src=\"https://colab.research.google.com/assets/colab-badge.svg\" alt=\"Open In Colab\"/></a>"
      ]
    },
    {
      "cell_type": "code",
      "source": [
        "import numpy as np"
      ],
      "metadata": {
        "id": "nVvJXj0VDYCn"
      },
      "execution_count": null,
      "outputs": []
    },
    {
      "cell_type": "code",
      "execution_count": null,
      "metadata": {
        "id": "AKL89DpC_EqB"
      },
      "outputs": [],
      "source": [
        "x1=np.array([0,0,1,1])\n",
        "x2=np.array([0,1,0,1])\n",
        "w1=1\n",
        "w2=-1\n"
      ]
    },
    {
      "cell_type": "code",
      "source": [
        "print(x1)\n",
        "print(x2)"
      ],
      "metadata": {
        "colab": {
          "base_uri": "https://localhost:8080/"
        },
        "id": "s28FTGNqEn9J",
        "outputId": "1c600ca6-7c8c-4092-ae3a-e10975463600"
      },
      "execution_count": null,
      "outputs": [
        {
          "output_type": "stream",
          "name": "stdout",
          "text": [
            "[0 0 1 1]\n",
            "[0 1 0 1]\n"
          ]
        }
      ]
    },
    {
      "cell_type": "code",
      "source": [
        "def AND(x1,x2,w1,w2):\n",
        "  x3=x1*w1+x2*w2\n",
        "  result=np.where(x3<2,0,1)\n",
        "  return result\n",
        "\n"
      ],
      "metadata": {
        "id": "kUSGV8JjEo_x"
      },
      "execution_count": null,
      "outputs": []
    },
    {
      "cell_type": "code",
      "source": [
        "def OR(x1,x2,w1,w2):\n",
        "  x3=x1*w1+x2*w2\n",
        "  result=np.where(x3==0,0,1)\n",
        "  return result\n"
      ],
      "metadata": {
        "id": "BIO7Ax4NH3gv"
      },
      "execution_count": null,
      "outputs": []
    },
    {
      "cell_type": "code",
      "source": [
        "def NAND(x1,x2,w1,w2):\n",
        "  x3=x1*w1+x2*w2\n",
        "  result=np.where(x3<2,1,0)\n",
        "  return result"
      ],
      "metadata": {
        "id": "V2EPI18hIcCZ"
      },
      "execution_count": null,
      "outputs": []
    },
    {
      "cell_type": "code",
      "source": [
        "def NOT(x1,x2):\n",
        "  result=np.where(x3>0,0,1)\n",
        "  return result"
      ],
      "metadata": {
        "colab": {
          "base_uri": "https://localhost:8080/"
        },
        "id": "YaQ76oVIJqXk",
        "outputId": "4eb400ee-d886-4dd8-ea0d-52778ad0bd2a"
      },
      "execution_count": null,
      "outputs": [
        {
          "output_type": "execute_result",
          "data": {
            "text/plain": [
              "array([1, 0])"
            ]
          },
          "metadata": {},
          "execution_count": 31
        }
      ]
    },
    {
      "cell_type": "code",
      "source": [
        "\n",
        "def XOR(x1,x2):\n",
        "  zin=x1-x2\n",
        "  z2in=x2-x1\n",
        "  z1=zin.where(zin<1,0,1)\n",
        "  z2=z2in.where(z2in<1,0,1)\n",
        "  yin=z1+z2\n",
        "  y=yin\n",
        "  return y\n",
        "\n",
        "\n",
        "\n",
        "\n",
        "\n",
        "\n",
        "\n",
        "\n"
      ],
      "metadata": {
        "colab": {
          "base_uri": "https://localhost:8080/"
        },
        "id": "1zRKPFQZLBbA",
        "outputId": "56e78328-3a8c-487e-e7ed-64aa43767981"
      },
      "execution_count": null,
      "outputs": [
        {
          "output_type": "execute_result",
          "data": {
            "text/plain": [
              "array([ 0,  1, -1,  0])"
            ]
          },
          "metadata": {},
          "execution_count": 30
        }
      ]
    },
    {
      "cell_type": "code",
      "source": [],
      "metadata": {
        "id": "QvxS_vTcLQmP"
      },
      "execution_count": null,
      "outputs": []
    }
  ]
}